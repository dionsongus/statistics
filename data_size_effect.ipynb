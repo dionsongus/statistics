{
 "cells": [
  {
   "cell_type": "markdown",
   "metadata": {},
   "source": [
    "# Effect of Data Size on Statistical Tests\n",
    "\n",
    "### Statistical tests become sensitive as data sizes increase. Alternative tests such as the Cohen's D have to be used. This notebook shows how the 1 sample t-test e.g. is impacted by data size. "
   ]
  },
  {
   "cell_type": "code",
   "execution_count": 40,
   "metadata": {},
   "outputs": [
    {
     "data": {
      "text/html": [
       "<div>\n",
       "<style scoped>\n",
       "    .dataframe tbody tr th:only-of-type {\n",
       "        vertical-align: middle;\n",
       "    }\n",
       "\n",
       "    .dataframe tbody tr th {\n",
       "        vertical-align: top;\n",
       "    }\n",
       "\n",
       "    .dataframe thead th {\n",
       "        text-align: right;\n",
       "    }\n",
       "</style>\n",
       "<table border=\"1\" class=\"dataframe\">\n",
       "  <thead>\n",
       "    <tr style=\"text-align: right;\">\n",
       "      <th></th>\n",
       "      <th>data_size</th>\n",
       "      <th>p_value</th>\n",
       "    </tr>\n",
       "  </thead>\n",
       "  <tbody>\n",
       "    <tr>\n",
       "      <th>0</th>\n",
       "      <td>100</td>\n",
       "      <td>0.6587</td>\n",
       "    </tr>\n",
       "    <tr>\n",
       "      <th>0</th>\n",
       "      <td>1000</td>\n",
       "      <td>0.0490</td>\n",
       "    </tr>\n",
       "    <tr>\n",
       "      <th>0</th>\n",
       "      <td>10000</td>\n",
       "      <td>0.0000</td>\n",
       "    </tr>\n",
       "  </tbody>\n",
       "</table>\n",
       "</div>"
      ],
      "text/plain": [
       "   data_size  p_value\n",
       "0        100   0.6587\n",
       "0       1000   0.0490\n",
       "0      10000   0.0000"
      ]
     },
     "execution_count": 40,
     "metadata": {},
     "output_type": "execute_result"
    }
   ],
   "source": [
    "# Referenced Scipy.stats in Tutorialspoint\n",
    "import scipy.stats as S\n",
    "import pandas as pd\n",
    "\n",
    "sample = 0.1\n",
    "populations = []\n",
    "pdf = pd.DataFrame()\n",
    "for i in range(1,4):\n",
    "    data_size = 10**(i+1)\n",
    "    \n",
    "    # This is a normal distribution centered at 0 with a sigma of 1\n",
    "    population = S.norm.rvs(loc = 0, scale = 1, size = data_size, random_state=1)\n",
    "    populations.append(population)\n",
    "    \n",
    "    x, p_value = S.ttest_1samp(population,sample)\n",
    "    pdf = pdf.append(pd.DataFrame([[data_size, round(p_value, 4)]],columns=['data_size','p_value']))\n",
    "\n",
    "pdf"
   ]
  },
  {
   "cell_type": "markdown",
   "metadata": {},
   "source": [
    "### The p_value obviously decreases for larger data size, i.e. using a larger data set, one can better tell the difference between a sample and the population. This makes intuitive sense. \n",
    "<br>"
   ]
  },
  {
   "cell_type": "code",
   "execution_count": 63,
   "metadata": {},
   "outputs": [
    {
     "data": {
      "image/png": "[encoded data removed]",
      "text/plain": [
       "<Figure size 432x288 with 1 Axes>"
      ]
     },
     "metadata": {},
     "output_type": "display_data"
    }
   ],
   "source": [
    "import matplotlib.pyplot as plt\n",
    "import seaborn as sns\n",
    "\n",
    "sns.set()\n",
    "plt.hist(populations[0], 30, density=True, alpha=0.5, label='datasize 100')\n",
    "plt.hist(populations[2], 30, density=True, alpha=0.5, label='datasize 10,000')\n",
    "plt.legend()\n",
    "plt.show()"
   ]
  },
  {
   "cell_type": "markdown",
   "metadata": {},
   "source": [
    "### Graphically, the larger data has a smoother histrogram, makes it easier to determin the center of the peak.  Clearly, some resolution improvement makes sense. "
   ]
  },
  {
   "cell_type": "markdown",
   "metadata": {},
   "source": [
    "### However, the resolution becomes arbitarily small which very large dataset, proportional to 1/sqrt(data size), and it's up to the physical context of the data to determine when the impact of the large data size becomes unrealistic. "
   ]
  },
  {
   "cell_type": "code",
   "execution_count": 71,
   "metadata": {},
   "outputs": [
    {
     "data": {
      "text/html": [
       "<div>\n",
       "<style scoped>\n",
       "    .dataframe tbody tr th:only-of-type {\n",
       "        vertical-align: middle;\n",
       "    }\n",
       "\n",
       "    .dataframe tbody tr th {\n",
       "        vertical-align: top;\n",
       "    }\n",
       "\n",
       "    .dataframe thead th {\n",
       "        text-align: right;\n",
       "    }\n",
       "</style>\n",
       "<table border=\"1\" class=\"dataframe\">\n",
       "  <thead>\n",
       "    <tr style=\"text-align: right;\">\n",
       "      <th></th>\n",
       "      <th>data_size</th>\n",
       "      <th>p_value</th>\n",
       "    </tr>\n",
       "  </thead>\n",
       "  <tbody>\n",
       "    <tr>\n",
       "      <th>0</th>\n",
       "      <td>10,000,000</td>\n",
       "      <td>0.0006</td>\n",
       "    </tr>\n",
       "  </tbody>\n",
       "</table>\n",
       "</div>"
      ],
      "text/plain": [
       "    data_size  p_value\n",
       "0  10,000,000   0.0006"
      ]
     },
     "execution_count": 71,
     "metadata": {},
     "output_type": "execute_result"
    }
   ],
   "source": [
    "# Try a sample much closer to the center of the population, 1/1000 of the sigma. And a much larger dataset.\n",
    "sample = 0.001 \n",
    "data_size = 10000000\n",
    "population = S.norm.rvs(loc = 0, scale = 1, size = data_size, random_state=1)\n",
    "x, p_value = S.ttest_1samp(population,sample)\n",
    "pdf = pd.DataFrame([[data_size, round(p_value, 4)]],columns=['data_size','p_value'])\n",
    "pdf['data_size']=pdf['data_size'].map('{:,}'.format)\n",
    "pdf"
   ]
  }
 ],
 "metadata": {
  "kernelspec": {
   "display_name": "Python 3",
   "language": "python",
   "name": "python3"
  },
  "language_info": {
   "codemirror_mode": {
    "name": "ipython",
    "version": 3
   },
   "file_extension": ".py",
   "mimetype": "text/x-python",
   "name": "python",
   "nbconvert_exporter": "python",
   "pygments_lexer": "ipython3",
   "version": "3.7.1"
  }
 },
 "nbformat": 4,
 "nbformat_minor": 2
}
