{
 "cells": [
  {
   "cell_type": "markdown",
   "metadata": {},
   "source": [
    "# Effect of Data Size on Statistical Tests\n",
    "\n",
    "Statistical tests often becomes very sensitive when data size increases beyond 1,000 and much more. Alternative tests such as the Cohen's D would have to be used. This notebook shows how the 1 sample t-test e.g. is impacted by data size and discusses the impact. "
   ]
  },
  {
   "cell_type": "code",
   "execution_count": 11,
   "metadata": {},
   "outputs": [
    {
     "name": "stdout",
     "output_type": "stream",
     "text": [
      "data size: 100, \t p-value:  0.5543\n",
      "data size: 1,000, \t p-value:  0.0166\n",
      "data size: 10,000, \t p-value:  0.0\n",
      "data size: 100,000, \t p-value:  0.0\n"
     ]
    }
   ],
   "source": [
    "# Referenced Scipy.stats in Tutorialspoint\n",
    "import scipy.stats as S\n",
    "\n",
    "one_sample = 0.1\n",
    "\n",
    "for i in range(1,5):\n",
    "    data_size = 10**(i+1)\n",
    "    data_set = S.norm.rvs(loc = 0, scale = 1, size = data_size)\n",
    "    x, pvalue = S.ttest_1samp(data_set,one_sample)\n",
    "    print('data size: {:,},'.format(data_size), '\\t p-value: ', round(pvalue,4))"
   ]
  },
  {
   "cell_type": "markdown",
   "metadata": {},
   "source": [
    "In the above example, the test tries to tell the difference of 0.1, which is one-tenth the sigma. It cannot do it for sample sizes of 1,000 and below but can tell the difference for samples sizes 10,000 or more. \n",
    "It makes intuitive sense for larger sample sizes makes more precise measurement. But how far can we do down this route?"
   ]
  }
 ],
 "metadata": {
  "kernelspec": {
   "display_name": "Python 3",
   "language": "python",
   "name": "python3"
  },
  "language_info": {
   "codemirror_mode": {
    "name": "ipython",
    "version": 3
   },
   "file_extension": ".py",
   "mimetype": "text/x-python",
   "name": "python",
   "nbconvert_exporter": "python",
   "pygments_lexer": "ipython3",
   "version": "3.7.1"
  }
 },
 "nbformat": 4,
 "nbformat_minor": 2
}
